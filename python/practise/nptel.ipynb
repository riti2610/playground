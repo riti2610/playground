{
 "cells": [
  {
   "cell_type": "code",
   "execution_count": 3,
   "metadata": {},
   "outputs": [
    {
     "name": "stdout",
     "output_type": "stream",
     "text": [
      "3\n"
     ]
    }
   ],
   "source": [
    "# This is a naive method for finding out the gcd\n",
    "def gcd1(m,n):\n",
    "    \"\"\" Listing out all the factors of\n",
    "        both the numbers    \"\"\"\n",
    "    fn = []\n",
    "    fm = []\n",
    "\n",
    "    for i in range(1,n):\n",
    "        if (n % i == 0):\n",
    "            fn.append(i)\n",
    "\n",
    "    for i in range(1,m):\n",
    "        if (m%i == 0):\n",
    "            fm.append(i)\n",
    "    \n",
    "    \"\"\" Then finding out all the \n",
    "        common in them \"\"\"\n",
    "    cf = []\n",
    "    for i in fn :\n",
    "        if i in fm: \n",
    "            cf.append(i)\n",
    "\n",
    "    \"\"\" Printing out the max \"\"\"\n",
    "    return cf[-1]\n",
    "\n",
    "print(gcd1(12,15))\n"
   ]
  },
  {
   "cell_type": "code",
   "execution_count": 6,
   "metadata": {},
   "outputs": [
    {
     "name": "stdout",
     "output_type": "stream",
     "text": [
      "3\n"
     ]
    }
   ],
   "source": [
    "\"\"\" Optimizing the gcd algorithm \"\"\"\n",
    "\n",
    "def gcd2(m,n):\n",
    "    t = min(m,n)\n",
    "    res = 1\n",
    "    for i in range(1,t):\n",
    "        if (m % i == 0 ) and (n % i == 0):\n",
    "            res = i\n",
    "    \n",
    "    return res\n",
    "\n",
    "print(gcd2(12,15))\n"
   ]
  },
  {
   "cell_type": "code",
   "execution_count": 7,
   "metadata": {},
   "outputs": [
    {
     "name": "stdout",
     "output_type": "stream",
     "text": [
      "3\n"
     ]
    }
   ],
   "source": [
    "\"\"\" Again Optimizing the gcd algorithm \"\"\"\n",
    "\"\"\" Watch here we don't use list here like the \n",
    "    previous one \"\"\"\n",
    "def gcd3(m,n):\n",
    "    i = min(m,n)\n",
    "\n",
    "    while i > 0:\n",
    "        if ( m % i == 0) and ( n % i == 0):\n",
    "            return(i)\n",
    "        else:\n",
    "            i -= 1 \n",
    "\n",
    "print(gcd3(12,15))\n",
    "\n",
    "    "
   ]
  },
  {
   "cell_type": "code",
   "execution_count": 9,
   "metadata": {},
   "outputs": [
    {
     "name": "stdout",
     "output_type": "stream",
     "text": [
      "100\n"
     ]
    }
   ],
   "source": [
    "\"\"\" Trying to make it more optimal \n",
    "    This was a recursive approach\n",
    "\"\"\"\n",
    "\n",
    "def gcd4(m,n):\n",
    "    # Assumne m >= n\n",
    "    if m < n:\n",
    "        (m,n) = (n,m)\n",
    "\n",
    "    if (m % n) == 0:\n",
    "        return(n)\n",
    "    \n",
    "    else:\n",
    "        diff = m-n\n",
    "        # diff > n ? Possible!\n",
    "        return(gcd4(max(n,diff),min(n,diff)))\n",
    "\n",
    "print(gcd4(100,200))\n"
   ]
  },
  {
   "cell_type": "code",
   "execution_count": 11,
   "metadata": {},
   "outputs": [
    {
     "name": "stdout",
     "output_type": "stream",
     "text": [
      "1\n"
     ]
    }
   ],
   "source": [
    "\"\"\" This one uses the fact in the previous algo \n",
    "    but it is a iterative algo much efficient then \n",
    "    the previous one\n",
    "\"\"\"\n",
    "\n",
    "def gcd5(m,n):\n",
    "    if m < n:\n",
    "        (m,n) = (n,m)\n",
    "    \n",
    "    while (m % n != 0):\n",
    "        diff = m-n \n",
    "        (m,n) = (max(n,diff),min(n,diff))\n",
    "    \n",
    "    return(n)\n",
    "    \n",
    "print(gcd5(1231,123124))"
   ]
  },
  {
   "cell_type": "code",
   "execution_count": 12,
   "metadata": {},
   "outputs": [
    {
     "name": "stdout",
     "output_type": "stream",
     "text": [
      "2\n"
     ]
    }
   ],
   "source": [
    "\"\"\" This is the euclid's \n",
    "    algorithm for finding \n",
    "    gcd (Recursive Approach)\n",
    "\"\"\"\n",
    "\n",
    "def gcd6(m,n):\n",
    "\n",
    "    if m < n:\n",
    "        (m ,n) = (n,m)\n",
    "    \n",
    "    if (m % n ) == 0:\n",
    "        return n\n",
    "    else:\n",
    "        return(gcd6(n,m%n))\n",
    "\n",
    "print(gcd6(1232,2342))\n",
    "        "
   ]
  },
  {
   "cell_type": "code",
   "execution_count": 2,
   "metadata": {},
   "outputs": [
    {
     "name": "stdout",
     "output_type": "stream",
     "text": [
      "1\n"
     ]
    }
   ],
   "source": [
    "\"\"\" Euclid's algorithm Iterative \n",
    "    approach T(n) = O(m) \n",
    "    The most efficient approach\n",
    "\"\"\"\n",
    "\n",
    "def gcd7(m,n):\n",
    "    if m < n:\n",
    "        (m,n) = (n,m)\n",
    "    \n",
    "    while(m % n != 0):\n",
    "        (m,n) = (n, m%n)\n",
    "    \n",
    "    return n\n",
    "\n",
    "print(gcd7(1231,2449903))"
   ]
  },
  {
   "cell_type": "code",
   "execution_count": 3,
   "metadata": {},
   "outputs": [
    {
     "name": "stdout",
     "output_type": "stream",
     "text": [
      "I am death the destroyer of the world\n"
     ]
    }
   ],
   "source": [
    "print(\"I am death the destroyer of the world\")"
   ]
  }
 ],
 "metadata": {
  "kernelspec": {
   "display_name": "Python 3",
   "language": "python",
   "name": "python3"
  },
  "language_info": {
   "codemirror_mode": {
    "name": "ipython",
    "version": 3
   },
   "file_extension": ".py",
   "mimetype": "text/x-python",
   "name": "python",
   "nbconvert_exporter": "python",
   "pygments_lexer": "ipython3",
   "version": "3.11.9"
  }
 },
 "nbformat": 4,
 "nbformat_minor": 2
}
