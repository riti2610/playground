{
 "cells": [
  {
   "cell_type": "code",
   "execution_count": 3,
   "metadata": {},
   "outputs": [
    {
     "name": "stdout",
     "output_type": "stream",
     "text": [
      "3\n"
     ]
    }
   ],
   "source": [
    "# This is a naive method for finding out the gcd\n",
    "def gcd1(m,n):\n",
    "    \"\"\" Listing out all the factors of\n",
    "        both the numbers    \"\"\"\n",
    "    fn = []\n",
    "    fm = []\n",
    "\n",
    "    for i in range(1,n):\n",
    "        if (n % i == 0):\n",
    "            fn.append(i)\n",
    "\n",
    "    for i in range(1,m):\n",
    "        if (m%i == 0):\n",
    "            fm.append(i)\n",
    "    \n",
    "    \"\"\" Then finding out all the \n",
    "        common in them \"\"\"\n",
    "    cf = []\n",
    "    for i in fn :\n",
    "        if i in fm: \n",
    "            cf.append(i)\n",
    "\n",
    "    \"\"\" Printing out the max \"\"\"\n",
    "    return cf[-1]\n",
    "\n",
    "print(gcd1(12,15))\n"
   ]
  },
  {
   "cell_type": "code",
   "execution_count": 6,
   "metadata": {},
   "outputs": [
    {
     "name": "stdout",
     "output_type": "stream",
     "text": [
      "3\n"
     ]
    }
   ],
   "source": [
    "\"\"\" Optimizing the gcd algorithm \"\"\"\n",
    "\n",
    "def gcd2(m,n):\n",
    "    t = min(m,n)\n",
    "    res = 1\n",
    "    for i in range(1,t):\n",
    "        if (m % i == 0 ) and (n % i == 0):\n",
    "            res = i\n",
    "    \n",
    "    return res\n",
    "\n",
    "print(gcd2(12,15))\n"
   ]
  },
  {
   "cell_type": "code",
   "execution_count": 7,
   "metadata": {},
   "outputs": [
    {
     "name": "stdout",
     "output_type": "stream",
     "text": [
      "3\n"
     ]
    }
   ],
   "source": [
    "\"\"\" Again Optimizing the gcd algorithm \"\"\"\n",
    "\"\"\" Watch here we don't use list here like the \n",
    "    previous one \"\"\"\n",
    "def gcd3(m,n):\n",
    "    i = min(m,n)\n",
    "\n",
    "    while i > 0:\n",
    "        if ( m % i == 0) and ( n % i == 0):\n",
    "            return(i)\n",
    "        else:\n",
    "            i -= 1 \n",
    "\n",
    "print(gcd3(12,15))\n",
    "\n",
    "    "
   ]
  },
  {
   "cell_type": "code",
   "execution_count": 9,
   "metadata": {},
   "outputs": [
    {
     "name": "stdout",
     "output_type": "stream",
     "text": [
      "100\n"
     ]
    }
   ],
   "source": [
    "\"\"\" Trying to make it more optimal \n",
    "    This was a recursive approach\n",
    "\"\"\"\n",
    "\n",
    "def gcd4(m,n):\n",
    "    # Assumne m >= n\n",
    "    if m < n:\n",
    "        (m,n) = (n,m)\n",
    "\n",
    "    if (m % n) == 0:\n",
    "        return(n)\n",
    "    \n",
    "    else:\n",
    "        diff = m-n\n",
    "        # diff > n ? Possible!\n",
    "        return(gcd4(max(n,diff),min(n,diff)))\n",
    "\n",
    "print(gcd4(100,200))\n"
   ]
  },
  {
   "cell_type": "code",
   "execution_count": 11,
   "metadata": {},
   "outputs": [
    {
     "name": "stdout",
     "output_type": "stream",
     "text": [
      "1\n"
     ]
    }
   ],
   "source": [
    "\"\"\" This one uses the fact in the previous algo \n",
    "    but it is a iterative algo much efficient then \n",
    "    the previous one\n",
    "\"\"\"\n",
    "\n",
    "def gcd5(m,n):\n",
    "    if m < n:\n",
    "        (m,n) = (n,m)\n",
    "    \n",
    "    while (m % n != 0):\n",
    "        diff = m-n \n",
    "        (m,n) = (max(n,diff),min(n,diff))\n",
    "    \n",
    "    return(n)\n",
    "    \n",
    "print(gcd5(1231,123124))"
   ]
  },
  {
   "cell_type": "code",
   "execution_count": 12,
   "metadata": {},
   "outputs": [
    {
     "name": "stdout",
     "output_type": "stream",
     "text": [
      "2\n"
     ]
    }
   ],
   "source": [
    "\"\"\" This is the euclid's \n",
    "    algorithm for finding \n",
    "    gcd (Recursive Approach)\n",
    "\"\"\"\n",
    "\n",
    "def gcd6(m,n):\n",
    "\n",
    "    if m < n:\n",
    "        (m ,n) = (n,m)\n",
    "    \n",
    "    if (m % n ) == 0:\n",
    "        return n\n",
    "    else:\n",
    "        return(gcd6(n,m%n))\n",
    "\n",
    "print(gcd6(1232,2342))\n",
    "        "
   ]
  },
  {
   "cell_type": "code",
   "execution_count": 2,
   "metadata": {},
   "outputs": [
    {
     "name": "stdout",
     "output_type": "stream",
     "text": [
      "1\n"
     ]
    }
   ],
   "source": [
    "\"\"\" Euclid's algorithm Iterative \n",
    "    approach T(n) = O(m) \n",
    "    The most efficient approach\n",
    "\"\"\"\n",
    "\n",
    "def gcd7(m,n):\n",
    "    if m < n:\n",
    "        (m,n) = (n,m)\n",
    "    \n",
    "    while(m % n != 0):\n",
    "        (m,n) = (n, m%n)\n",
    "    \n",
    "    return n\n",
    "\n",
    "print(gcd7(1231,2449903))"
   ]
  },
  {
   "cell_type": "code",
   "execution_count": 3,
   "metadata": {},
   "outputs": [
    {
     "name": "stdout",
     "output_type": "stream",
     "text": [
      "I am death the destroyer of the world\n"
     ]
    }
   ],
   "source": [
    "print(\"I am death the destroyer of the world\")"
   ]
  },
  {
   "cell_type": "code",
   "execution_count": 5,
   "metadata": {},
   "outputs": [
    {
     "name": "stdout",
     "output_type": "stream",
     "text": [
      "22\n"
     ]
    }
   ],
   "source": [
    "a = [11,22,33]\n",
    "print(a[a.index(22)])"
   ]
  },
  {
   "cell_type": "code",
   "execution_count": 25,
   "metadata": {},
   "outputs": [
    {
     "name": "stdout",
     "output_type": "stream",
     "text": [
      "8\n"
     ]
    }
   ],
   "source": [
    "# finding out fibonnaci\n",
    "# using dynamic programming\n",
    "\n",
    "fbs = [0,1]\n",
    "\n",
    "def fib(n):\n",
    "    if(n == 1):\n",
    "        return 1\n",
    "    elif (n == 0 ):\n",
    "        return 0\n",
    "    \n",
    "    elif (len(fbs) > n):\n",
    "        return fbs[n]\n",
    "    \n",
    "    else:\n",
    "        x = fib(n-1) + fib(n-2)\n",
    "        fbs.append(x)\n",
    "        return x\n",
    "\n",
    "\n",
    "\n",
    "print(fib(6))\n"
   ]
  },
  {
   "cell_type": "code",
   "execution_count": 16,
   "metadata": {},
   "outputs": [
    {
     "name": "stdout",
     "output_type": "stream",
     "text": [
      "[2, 3, 5, 7, 11, 13, 17, 19, 23, 29, 31, 37, 41, 43, 47, 53, 59, 61, 67, 71, 73, 79, 83, 89, 97, 101, 103, 107, 109, 113, 127, 131, 137, 139, 149, 151, 157, 163, 167, 173, 179, 181, 191, 193, 197, 199, 211, 223, 227, 229, 233, 239, 241, 251, 257, 263, 269, 271, 277, 281, 283, 293, 307, 311, 313, 317, 331, 337, 347, 349, 353, 359, 367, 373, 379, 383, 389, 397, 401, 409, 419, 421, 431, 433, 439, 443, 449, 457, 461, 463, 467, 479, 487, 491, 499, 503, 509, 521, 523, 541, 547, 557, 563, 569, 571, 577, 587, 593, 599, 601, 607, 613, 617, 619, 631, 641, 643, 647, 653, 659, 661, 673, 677, 683, 691, 701, 709, 719, 727, 733, 739, 743, 751, 757, 761, 769, 773, 787, 797, 809, 811, 821, 823, 827, 829, 839, 853, 857, 859, 863, 877, 881, 883, 887, 907, 911, 919, 929, 937, 941, 947, 953, 967, 971, 977, 983, 991, 997]\n",
      "[True, True, True, True, True, True, True, True, True, True, True, True, True, True, True, True, True, True, True, True, True, True, True, True, True, True, True, True, True, True, True, True, True, True, True, True, True, True, True, True, True, True, True, True, True, True, True, True, True, True, True, True, True, True, True, True, True, True, True, True, True, True, True, True, True, True, True, True, True, True, True, True, True, True, True, True, True, True, True, True, True, True, True, True, True, True, True, True, True, True, True, True, True, True, True, True, True, True, True, True, True, True, True, True, True, True, True, True, True, True, True, True, True, True, True, True, True, True, True, True, True, True, True, True, True, True, True, True, True, True, True, True, True, True, True, True, True, True, True, True, True, True, True, True, True, True, True, True, True, True, True, True, True, True, True, True, True, True, True, True, True, True, True, True, True, True, True, True]\n"
     ]
    }
   ],
   "source": [
    "# sum of the series of the prime \n",
    "# my own implementation of seive theorem\n",
    "\n",
    "primes_idx = [1 for i in range(1000)]\n",
    "primes_idx[0] = -1\n",
    "primes_idx[1] = -1\n",
    "\n",
    "\n",
    "\n",
    "def find_primes(a):\n",
    "    for i in range(2,1000):\n",
    "        if (a[i] == -1):\n",
    "            continue\n",
    "        else:\n",
    "            for j in range(i,1000):\n",
    "                if (j*i < 1000):\n",
    "                    a[j*i]= -1\n",
    "                else:\n",
    "                    break\n",
    "\n",
    "find_primes(primes_idx)\n",
    "\n",
    "res = []\n",
    "# print the primes \n",
    "for i in range(len(primes_idx)):\n",
    "    if (primes_idx[i] == 1):\n",
    "        res.append(i)\n",
    "        # print(i,end=\" \")\n",
    "\n",
    "\n",
    "print(res)\n",
    "\n",
    "def check_prime(a):\n",
    "    for i in range(2,a):\n",
    "        if (a%i ==0):\n",
    "            return False\n",
    "    return True\n",
    "\n",
    "final_check = list (map(check_prime,res))\n",
    "print(final_check)\n"
   ]
  },
  {
   "cell_type": "code",
   "execution_count": 22,
   "metadata": {},
   "outputs": [
    {
     "name": "stdout",
     "output_type": "stream",
     "text": [
      " Sum of first 5 odds = 25\n",
      " Sum of first 6 evens = 30\n",
      " Sum of first 7 evens = 42\n"
     ]
    }
   ],
   "source": [
    "# verifying that the odd number series \n",
    "# sum is eqaul to square of its length\n",
    "\n",
    "odds = [ 2*i+1 for i in range(1000)]\n",
    "evens = [ 2*i for i in range(1000)]\n",
    "\n",
    "print(\" Sum of first 5 odds = \" ,end=\"\")\n",
    "res = 0\n",
    "for i in range(5):\n",
    "    res += odds[i]\n",
    "\n",
    "print(res)\n",
    "\n",
    "print(\" Sum of first 6 evens = \" ,end=\"\")\n",
    "res = 0\n",
    "for i in range(6):\n",
    "    res += evens[i]\n",
    "\n",
    "print(res)\n",
    "    \n",
    "\n",
    "print(\" Sum of first 7 evens = \" ,end=\"\")\n",
    "res = 0\n",
    "for i in range(7):\n",
    "    res += evens[i]\n",
    "\n",
    "print(res)\n",
    "\n",
    "    \n"
   ]
  },
  {
   "cell_type": "code",
   "execution_count": 26,
   "metadata": {},
   "outputs": [
    {
     "name": "stdout",
     "output_type": "stream",
     "text": [
      "The number of partitions of 10 is 42\n",
      "The number of partitions of 100 is 190569292\n",
      "The number of partitions of 1000 is 24061467864032622473692149727991\n"
     ]
    }
   ],
   "source": [
    "def partition_number(n):\n",
    "    # Create a list to store the partition numbers\n",
    "    partitions = [0] * (n + 1)\n",
    "    partitions[0] = 1  # Base case: there's one way to partition 0\n",
    "\n",
    "    # Iterate through each number from 1 to n\n",
    "    for i in range(1, n + 1):\n",
    "        for j in range(i, n + 1):\n",
    "            partitions[j] += partitions[j - i]\n",
    "\n",
    "    return partitions[n]\n",
    "\n",
    "# Example usage\n",
    "n = 10\n",
    "print(f\"The number of partitions of {n} is {partition_number(10)}\")\n",
    "\n",
    "n = 100\n",
    "print(f\"The number of partitions of {n} is {partition_number(100)}\")\n",
    "\n",
    "n = 1000\n",
    "print(f\"The number of partitions of {n} is {partition_number(1000)}\")"
   ]
  }
 ],
 "metadata": {
  "kernelspec": {
   "display_name": "Python 3",
   "language": "python",
   "name": "python3"
  },
  "language_info": {
   "codemirror_mode": {
    "name": "ipython",
    "version": 3
   },
   "file_extension": ".py",
   "mimetype": "text/x-python",
   "name": "python",
   "nbconvert_exporter": "python",
   "pygments_lexer": "ipython3",
   "version": "3.11.9"
  }
 },
 "nbformat": 4,
 "nbformat_minor": 2
}
